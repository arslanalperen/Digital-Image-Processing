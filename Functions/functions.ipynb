{
 "cells": [
  {
   "cell_type": "markdown",
   "metadata": {},
   "source": [
    "# Image Processing Functions\n",
    "##### Written by Alperen Arslan"
   ]
  },
  {
   "cell_type": "markdown",
   "metadata": {},
   "source": [
    "### Necessary Imports"
   ]
  },
  {
   "cell_type": "code",
   "execution_count": 14,
   "metadata": {},
   "outputs": [],
   "source": [
    "import numpy as np\n",
    "import matplotlib.pyplot as plt\n",
    "from numpy import array, int32, pad"
   ]
  },
  {
   "cell_type": "markdown",
   "metadata": {},
   "source": [
    "### PGM Operations"
   ]
  },
  {
   "cell_type": "markdown",
   "metadata": {},
   "source": [
    "##### PGM Write"
   ]
  },
  {
   "cell_type": "code",
   "execution_count": 15,
   "metadata": {},
   "outputs": [],
   "source": [
    "# Description:\n",
    "#\n",
    "# Write given matrix to PGM file\n",
    "#\n",
    "# @param[1]: Image matrix. It must be consist of pixel values.\n",
    "# @param[2]: Filename. It is name of PGM file that wants to be create.\n",
    "# @param[3]: Width. Width value of the image.\n",
    "# @param[4]: Height. Height value of the image.\n",
    "# @param[5]: Magic Number. Magic number is identifies the file type. PGM file type is P5. Default define is P5.\n",
    "# @param[6]: Resolution. The value of maximum pixel value. Default define is 255.\n",
    "#\n",
    "# @return: No return\n",
    "def pgmwrite(img, filename, width, height, magicNum='P5', resolution=255):\n",
    "    # Transform given image array to list\n",
    "    img = int32(img).tolist()\n",
    "    \n",
    "    # Create pmg file\n",
    "    f = open(filename,'w')\n",
    "    \n",
    "    # Header struct\n",
    "    # P5\\n (or P2 / Magic Number)\n",
    "    # 512 512\\n (Width and height value, blank space between these number)\n",
    "    # 256\\n (Resolution value)\n",
    "    # Data (Binary format)\n",
    "        \n",
    "    # Write header to pmg file\n",
    "    f.write(magicNum + '\\n')\n",
    "    f.write(str(width) + ' ' + str(height) + '\\n')\n",
    "    f.write(str(resolution) + '\\n')\n",
    "    \n",
    "    # Write data to pmg file\n",
    "    for i in range(height):\n",
    "        for j in range(width):\n",
    "            f.write(chr(img[i][j]))\n",
    "    f.close()"
   ]
  },
  {
   "cell_type": "markdown",
   "metadata": {},
   "source": [
    "##### PGM Read"
   ]
  },
  {
   "cell_type": "code",
   "execution_count": 16,
   "metadata": {},
   "outputs": [],
   "source": [
    "# Description:\n",
    "#\n",
    "# Read given matrix to PGM file\n",
    "#\n",
    "# @param[1]: Filename. It is name of PGM file that wants to read.\n",
    "#\n",
    "# @return[1]: Image Data. The values of image pixels.\n",
    "# @return[2]: Magic Number. Magic number is identifies the file type. PGM file type is P5. Default define is P5.\n",
    "# @return[3]: Width. Width value of the image.\n",
    "# @return[4]: Height. Height value of the image.\n",
    "# @return[5]: Resolution. The value of maximum pixel value.\n",
    "#\n",
    "def pgmread(filename):\n",
    "    # Open pgm file with binary reading\n",
    "    f = open(filename,'rb')\n",
    "    \n",
    "    # Read all the pgm file\n",
    "    imageBinary = f.read()\n",
    "\n",
    "    # Header struct\n",
    "    # P5\\n (or P2 / Magic Number)\n",
    "    # 512 512\\n (Width and height value, blank space between these number)\n",
    "    # 256\\n (Resolution value)\n",
    "    # Data (Binary format)\n",
    "    \n",
    "    # Define variables for header reader while loop\n",
    "    lineCounter = 0\n",
    "    cursorIndex = 0\n",
    "    buffer = ''     # Reading buffer\n",
    "    magicNum = ''   # Magic number info\n",
    "    width = ''      # Height info\n",
    "    height = ''     # Width info\n",
    "    resolution = '' # Resolution info\n",
    "    \n",
    "    # Reading the header struct of pgm file\n",
    "    # Skip all comments\n",
    "    # Just read magic number, width, height and resolution\n",
    "    # Boundry for line number, because of header struct consist of three lines\n",
    "    while lineCounter < 3:\n",
    "        # Read binary till encounter the line feed\n",
    "        # It means, it read one line\n",
    "        if (chr(imageBinary[cursorIndex]) == '\\n'):\n",
    "            if(lineCounter == 2): # Resolution info\n",
    "                resolution = buffer\n",
    "                lineCounter = lineCounter + 1 # Increase line counter\n",
    "                buffer = '' # Clean buffer\n",
    "            if (lineCounter == 1): # Width and height info\n",
    "                [width,height] = buffer.split(' ') # Split buffer to take width and height infos\n",
    "                lineCounter = lineCounter + 1\n",
    "                buffer = ''\n",
    "            if (lineCounter == 0): # Magic num info\n",
    "                magicNum = buffer\n",
    "                lineCounter = lineCounter + 1\n",
    "                buffer = ''\n",
    "            cursorIndex = cursorIndex + 1\n",
    "        # Comment skipper block\n",
    "        if (chr(imageBinary[cursorIndex]) == '#'):\n",
    "            comment_check = True\n",
    "            # Skip bytes till encounter line feed and there is no more comment\n",
    "            while comment_check:\n",
    "                if (chr(imageBinary[cursorIndex]) == '\\n') and (chr(imageBinary[cursorIndex+1]) != '#'):comment_check = False\n",
    "                cursorIndex = cursorIndex + 1\n",
    "            buffer = ''\n",
    "        buffer = buffer + chr(imageBinary[cursorIndex]) # Add bytes to buffer\n",
    "        cursorIndex = cursorIndex + 1 # Increase cursor index to take next byte to buffer\n",
    "\n",
    "    # Add rest of the pgm bytes to data vector\n",
    "    imageData = imageBinary[cursorIndex-1:]\n",
    "    \n",
    "    # Return the result\n",
    "    return (imageData,magicNum,int(width),int(height),int(resolution))"
   ]
  },
  {
   "cell_type": "markdown",
   "metadata": {},
   "source": [
    "### Transformations"
   ]
  },
  {
   "cell_type": "markdown",
   "metadata": {},
   "source": [
    "##### Negative of Image"
   ]
  },
  {
   "cell_type": "code",
   "execution_count": 18,
   "metadata": {},
   "outputs": [],
   "source": [
    "# Description:\n",
    "#\n",
    "# The function that taking the negative values of the given image pixels by substracting from resolution\n",
    "# General form of negative of the image is s = L - 1 -r which is intesity levels in the range [0,L-1]. r is a pixel value of the image.\n",
    "#\n",
    "# @param[1]: Image. Image matrix that wants to take negative.\n",
    "# @param[2]: Height. Height value of the image.\n",
    "# @param[3]: Width. Width value of the image.\n",
    "# @param[4]: Resolution. The value of maximum pixel value. Default define is 255.\n",
    "#\n",
    "# @return: Matrix. The matrix consist of negative values of the given image.\n",
    "def imageNegative(image,height,width,resolution=255):\n",
    "    # Create blank matrix for negative values of the given image\n",
    "    negative = np.zeros((height,width))\n",
    "\n",
    "    # for loop that subtracting the every pixel values of given image from resolution\n",
    "    for heightIndex in range(height):\n",
    "        for widthIndex in range(width):\n",
    "            negative[heightIndex][widthIndex] = resolution - image[heightIndex][widthIndex]\n",
    "    return negative # Return the matrix"
   ]
  },
  {
   "cell_type": "markdown",
   "metadata": {},
   "source": [
    "##### Log Transformation"
   ]
  },
  {
   "cell_type": "code",
   "execution_count": 19,
   "metadata": {},
   "outputs": [],
   "source": [
    "# Description:\n",
    "#\n",
    "# The function that taking the log transform values of the given image pixels\n",
    "# General form of the log transformation is s = c*log(1+r). c is a constant. r (pixel value) must be equal or bigger than zero.\n",
    "#\n",
    "# @param[1]: Image. Image matrix that wants to take log transform.\n",
    "# @param[2]: Height. Height value of the image.\n",
    "# @param[3]: Width. Width value of the image.\n",
    "# @param[4]: c. Constant value in the log transform formula. Default define is 1.\n",
    "# @param[5]: Resolution. The value of maximum pixel value. Default define is 255.\n",
    "#\n",
    "# @return: Matrix. The matrix consist of log transform values of the given image.\n",
    "def imageLogTransform(image,height,width,c=1,resolution=255):\n",
    "    # Create blank matrix for log transformations values of the given image\n",
    "    imageLogTransform = np.zeros((height,width))\n",
    "\n",
    "    # for loop that taking the log transform of every pixel values\n",
    "    for heightIndex in range(height):\n",
    "        for widthIndex in range(width):\n",
    "            imageLogTransform[heightIndex][widthIndex] = c * np.log10(1 + image[heightIndex][widthIndex])\n",
    "    return imageLogTransform # Return the matrix"
   ]
  },
  {
   "cell_type": "markdown",
   "metadata": {},
   "source": [
    "##### Power Law (Gamma) Transformation"
   ]
  },
  {
   "cell_type": "code",
   "execution_count": 20,
   "metadata": {},
   "outputs": [],
   "source": [
    "# Description:\n",
    "#\n",
    "# The function that taking the gamma transform values of the given image pixels\n",
    "# General form of the gamma transformation is s = c*(r^gamma). c is a constant. r (pixel value). omega is variable.\n",
    "#\n",
    "# @param[1]: Image. Image matrix that wants to take gamma transform.\n",
    "# @param[2]: Omega. Omega value in the omega transformation formula.\n",
    "# @param[3]: Height. Height value of the image.\n",
    "# @param[4]: Width. Width value of the image.\n",
    "# @param[5]: c. Constant value in the log transform formula. Default define is 1.\n",
    "# @param[6]: Resolution. The value of maximum pixel value. Default define is 255.\n",
    "#\n",
    "# @return: Matrix. The matrix consist of gamma transform values of the given image.\n",
    "def gammaTransformation(image,omega,height,width,c=1,resolution=255):\n",
    "    # Create blank matrix for gamma transformations values of the given image\n",
    "    imageGammaTransform = np.zeros((height,width))\n",
    "\n",
    "    # for loop that taking the gamma transform of every pixel values\n",
    "    for heightIndex in range(height):\n",
    "        for widthIndex in range(width):\n",
    "            imageGammaTransform[heightIndex][widthIndex] = c * ((image[heightIndex][widthIndex])**(omega))\n",
    "    return imageGammaTransform # Return the matrix"
   ]
  },
  {
   "cell_type": "markdown",
   "metadata": {},
   "source": [
    "### Filtering\n"
   ]
  },
  {
   "cell_type": "markdown",
   "metadata": {},
   "source": [
    "##### Lowpass Filter Creator"
   ]
  },
  {
   "cell_type": "code",
   "execution_count": 17,
   "metadata": {},
   "outputs": [],
   "source": [
    "# Description:\n",
    "#\n",
    "# Create lowpass filter which is a matrix consist of ones\n",
    "#\n",
    "# @param[1]: Height. Height of lowpass filters matrix wants to be create. Must be odd number.\n",
    "# @param[2]: Width. Width of lowpass filters matrix wants to be create. Must be odd number.\n",
    "#\n",
    "# @return: Lowpass filter matrix. Lowpass filter matrix wants to be create.\n",
    "def lowpassFilter(height,width):\n",
    "    # Check height and width inputs are odd or not\n",
    "    if (height % 2 == 0) and (width % 2 == 0):\n",
    "        error = 'Filter dimesions must be odd number!'\n",
    "        return error # Return the error message\n",
    "    # Create the matrix if there is no error\n",
    "    lowpass = np.ones((height,width))\n",
    "    return lowpass # Return the matrix"
   ]
  },
  {
   "cell_type": "markdown",
   "metadata": {},
   "source": [
    "##### Filter Applicator"
   ]
  },
  {
   "cell_type": "code",
   "execution_count": null,
   "metadata": {},
   "outputs": [],
   "source": [
    "# Description:\n",
    "#\n",
    "# The function that apply the given filter to given one pixel for using in other functions\n",
    "#\n",
    "# @param[1]: Image. Image matrix that wants to apply filter\n",
    "# @param[2]: Filter. Filter that wants to apply\n",
    "# @param[3]: Pad number. Number of added pad frame to image matrix\n",
    "# @param[4]: Height index. Height value of the pixel that wants to apply filter\n",
    "# @param[5]: Width index. Width value of the pixel that wants to apply filter\n",
    "#\n",
    "# @return: Pixel value. Pixel value that applied filter.\n",
    "def filterApplicator(image,filter,padNumber,heightIndex,widthIndex):\n",
    "    # Initial definition of index values for for loop\n",
    "    pixelValue = 0\n",
    "    imageHeightIndex = heightIndex-padNumber # Height start index of image matrix\n",
    "    imageWidthIndex = widthIndex-padNumber # Width start index of image matrix\n",
    "    \n",
    "    # for loop that apply filter to given pixel\n",
    "    for filterHeightIndex in range(len(filter)):\n",
    "        for filterWidthIndex in range(len(filter)):\n",
    "            pixelValue = pixelValue + (image[imageHeightIndex][imageWidthIndex]*filter[filterHeightIndex][filterWidthIndex])\n",
    "            imageWidthIndex = imageWidthIndex + 1\n",
    "        imageWidthIndex = widthIndex-padNumber # Reset the width start index of the image matrix\n",
    "        imageHeightIndex = imageHeightIndex + 1\n",
    "    \n",
    "    # Variable definition for normalizing the pixel value\n",
    "    filterValueSum = 0\n",
    "    \n",
    "    # Summing the filter values for pixel normalization\n",
    "    for i in range(len(filter)):\n",
    "        for j in range(len(filter)):\n",
    "            filterValueSum = filterValueSum + filter[i][j]\n",
    "    pixelValue = pixelValue / filterValueSum\n",
    "    \n",
    "    return int(pixelValue) # Return the pixel value"
   ]
  },
  {
   "cell_type": "markdown",
   "metadata": {},
   "source": [
    "##### Image Smoother"
   ]
  },
  {
   "cell_type": "code",
   "execution_count": null,
   "metadata": {},
   "outputs": [],
   "source": [
    "# Description:\n",
    "#\n",
    "# The function that smooth the given image by given filter\n",
    "#\n",
    "# @param[1]: Image. Image matrix that wants to smooth\n",
    "# @param[2]: Filter. Filter that wants to apply\n",
    "# @param[3]: Pad number. Number of added pad frame to image matrix\n",
    "# @param[4]: Height index. Height value of the pixel that wants to apply filter\n",
    "# @param[5]: Width index. Width value of the pixel that wants to apply filter\n",
    "#\n",
    "# @return: Matrix. The matrix that consist of smoothed pixel values of the given image\n",
    "def imageSmoother(matrix,filter,padNumber,height,width):\n",
    "    # Create blank matrix for image smoothing\n",
    "    smoothedImage = np.zeros((height,width))\n",
    "\n",
    "    # for loop that smooth the given image\n",
    "    for heightIndex in range(height-1):\n",
    "        for widthIndex in range(width-1):\n",
    "            smoothedImage[heightIndex][widthIndex] = filterApplicator(matrix,filter,padNumber,heightIndex,widthIndex)\n",
    "    return smoothedImage # Return the matrix"
   ]
  }
 ],
 "metadata": {
  "kernelspec": {
   "display_name": "Python 3.9.12 ('base')",
   "language": "python",
   "name": "python3"
  },
  "language_info": {
   "codemirror_mode": {
    "name": "ipython",
    "version": 3
   },
   "file_extension": ".py",
   "mimetype": "text/x-python",
   "name": "python",
   "nbconvert_exporter": "python",
   "pygments_lexer": "ipython3",
   "version": "3.9.12"
  },
  "orig_nbformat": 4,
  "vscode": {
   "interpreter": {
    "hash": "68c2a598aeb7a5453385b31db816aca13b02730df7c59dafc526f0b7d57c21dd"
   }
  }
 },
 "nbformat": 4,
 "nbformat_minor": 2
}
